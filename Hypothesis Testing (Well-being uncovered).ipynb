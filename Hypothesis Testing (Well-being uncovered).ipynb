{
 "cells": [
  {
   "cell_type": "markdown",
   "id": "cd8f8f25",
   "metadata": {},
   "source": [
    "# 1. Importing required libraries,"
   ]
  },
  {
   "cell_type": "code",
   "execution_count": 1,
   "id": "b0ccd65b",
   "metadata": {},
   "outputs": [],
   "source": [
    "import pandas as pd\n",
    "import numpy as np\n",
    "import statistics as stats\n",
    "import scipy.stats as sc"
   ]
  },
  {
   "cell_type": "markdown",
   "id": "dabf8d3b",
   "metadata": {},
   "source": [
    "# 2. Reading the dataset,"
   ]
  },
  {
   "cell_type": "code",
   "execution_count": 2,
   "id": "30fcb456",
   "metadata": {},
   "outputs": [],
   "source": [
    "df = pd.read_csv('Statistics hypothesis testing.csv')"
   ]
  },
  {
   "cell_type": "code",
   "execution_count": 28,
   "id": "dd0a71d4",
   "metadata": {},
   "outputs": [
    {
     "data": {
      "text/html": [
       "<div>\n",
       "<style scoped>\n",
       "    .dataframe tbody tr th:only-of-type {\n",
       "        vertical-align: middle;\n",
       "    }\n",
       "\n",
       "    .dataframe tbody tr th {\n",
       "        vertical-align: top;\n",
       "    }\n",
       "\n",
       "    .dataframe thead th {\n",
       "        text-align: right;\n",
       "    }\n",
       "</style>\n",
       "<table border=\"1\" class=\"dataframe\">\n",
       "  <thead>\n",
       "    <tr style=\"text-align: right;\">\n",
       "      <th></th>\n",
       "      <th>Age</th>\n",
       "      <th>Gender</th>\n",
       "      <th>Height</th>\n",
       "      <th>Weight</th>\n",
       "      <th>BMI</th>\n",
       "      <th>BMI Classification</th>\n",
       "      <th>Profession</th>\n",
       "      <th>Activeness</th>\n",
       "      <th>Sleep Amount</th>\n",
       "      <th>Workout Preference</th>\n",
       "      <th>Workout Period</th>\n",
       "      <th>Diet preferences</th>\n",
       "      <th>Fruits</th>\n",
       "      <th>Fast Food</th>\n",
       "      <th>Doctor consultation (Monthly)</th>\n",
       "      <th>Healthy considered</th>\n",
       "    </tr>\n",
       "  </thead>\n",
       "  <tbody>\n",
       "    <tr>\n",
       "      <th>0</th>\n",
       "      <td>24</td>\n",
       "      <td>Male</td>\n",
       "      <td>183</td>\n",
       "      <td>62.0</td>\n",
       "      <td>18.5</td>\n",
       "      <td>Healthy</td>\n",
       "      <td>Student</td>\n",
       "      <td>2</td>\n",
       "      <td>6.5</td>\n",
       "      <td>Never</td>\n",
       "      <td>NaN</td>\n",
       "      <td>Vegetarian</td>\n",
       "      <td>No</td>\n",
       "      <td>1 to 7 times a week</td>\n",
       "      <td>Never</td>\n",
       "      <td>3</td>\n",
       "    </tr>\n",
       "    <tr>\n",
       "      <th>1</th>\n",
       "      <td>18</td>\n",
       "      <td>Female</td>\n",
       "      <td>165</td>\n",
       "      <td>55.0</td>\n",
       "      <td>20.2</td>\n",
       "      <td>Healthy</td>\n",
       "      <td>Student</td>\n",
       "      <td>2</td>\n",
       "      <td>7.5</td>\n",
       "      <td>Once a week</td>\n",
       "      <td>30</td>\n",
       "      <td>Non-vegetarian</td>\n",
       "      <td>Yes</td>\n",
       "      <td>1 to 7 times a week</td>\n",
       "      <td>More than five times</td>\n",
       "      <td>5</td>\n",
       "    </tr>\n",
       "    <tr>\n",
       "      <th>2</th>\n",
       "      <td>22</td>\n",
       "      <td>Female</td>\n",
       "      <td>142</td>\n",
       "      <td>42.5</td>\n",
       "      <td>21.0</td>\n",
       "      <td>Healthy</td>\n",
       "      <td>Student</td>\n",
       "      <td>1</td>\n",
       "      <td>5.5</td>\n",
       "      <td>2 to 3 times a week</td>\n",
       "      <td>30</td>\n",
       "      <td>Vegetarian</td>\n",
       "      <td>Yes</td>\n",
       "      <td>1 to 7 times a week</td>\n",
       "      <td>Never</td>\n",
       "      <td>3</td>\n",
       "    </tr>\n",
       "    <tr>\n",
       "      <th>3</th>\n",
       "      <td>34</td>\n",
       "      <td>Female</td>\n",
       "      <td>162</td>\n",
       "      <td>50.0</td>\n",
       "      <td>19.1</td>\n",
       "      <td>Healthy</td>\n",
       "      <td>Home - maker</td>\n",
       "      <td>1</td>\n",
       "      <td>7.5</td>\n",
       "      <td>Once a week</td>\n",
       "      <td>15</td>\n",
       "      <td>Vegetarian</td>\n",
       "      <td>Yes</td>\n",
       "      <td>1 to 7 times a week</td>\n",
       "      <td>Never</td>\n",
       "      <td>3</td>\n",
       "    </tr>\n",
       "    <tr>\n",
       "      <th>4</th>\n",
       "      <td>26</td>\n",
       "      <td>Male</td>\n",
       "      <td>168</td>\n",
       "      <td>106.0</td>\n",
       "      <td>37.7</td>\n",
       "      <td>Obese</td>\n",
       "      <td>Other</td>\n",
       "      <td>3</td>\n",
       "      <td>7.5</td>\n",
       "      <td>2 to 3 times a week</td>\n",
       "      <td>60</td>\n",
       "      <td>Non-vegetarian</td>\n",
       "      <td>No</td>\n",
       "      <td>1 to 7 times a week</td>\n",
       "      <td>Three to five times</td>\n",
       "      <td>3</td>\n",
       "    </tr>\n",
       "  </tbody>\n",
       "</table>\n",
       "</div>"
      ],
      "text/plain": [
       "   Age  Gender  Height  Weight   BMI BMI Classification    Profession  \\\n",
       "0   24    Male     183    62.0  18.5            Healthy       Student   \n",
       "1   18  Female     165    55.0  20.2            Healthy       Student   \n",
       "2   22  Female     142    42.5  21.0            Healthy       Student   \n",
       "3   34  Female     162    50.0  19.1            Healthy  Home - maker   \n",
       "4   26    Male     168   106.0  37.7              Obese         Other   \n",
       "\n",
       "   Activeness  Sleep Amount   Workout Preference Workout Period  \\\n",
       "0           2           6.5                Never            NaN   \n",
       "1           2           7.5          Once a week             30   \n",
       "2           1           5.5  2 to 3 times a week             30   \n",
       "3           1           7.5          Once a week             15   \n",
       "4           3           7.5  2 to 3 times a week             60   \n",
       "\n",
       "  Diet preferences Fruits           Fast Food  Doctor consultation (Monthly)  \\\n",
       "0       Vegetarian     No  1 to 7 times a week                         Never   \n",
       "1   Non-vegetarian    Yes  1 to 7 times a week          More than five times   \n",
       "2       Vegetarian    Yes  1 to 7 times a week                         Never   \n",
       "3       Vegetarian    Yes  1 to 7 times a week                         Never   \n",
       "4   Non-vegetarian     No  1 to 7 times a week           Three to five times   \n",
       "\n",
       "   Healthy considered  \n",
       "0                   3  \n",
       "1                   5  \n",
       "2                   3  \n",
       "3                   3  \n",
       "4                   3  "
      ]
     },
     "execution_count": 28,
     "metadata": {},
     "output_type": "execute_result"
    }
   ],
   "source": [
    "df.head()"
   ]
  },
  {
   "cell_type": "markdown",
   "id": "181027a5-69b8-4004-b5b9-4aac78815edb",
   "metadata": {},
   "source": [
    "# 3. Data Preprocessing"
   ]
  },
  {
   "cell_type": "markdown",
   "id": "d0d63e6c",
   "metadata": {},
   "source": [
    "## 3.1. Dropping unnecessary features,"
   ]
  },
  {
   "cell_type": "code",
   "execution_count": 4,
   "id": "4861e7e5",
   "metadata": {
    "scrolled": true
   },
   "outputs": [],
   "source": [
    "df.drop(['Index', 'Email ID', 'Date of Birth', 'Name of genetical disease posessed', \n",
    "         'Which health insurance provider are you enrolled with?', 'Health Insurance', \n",
    "         'Chronic Disease', 'Bedtime', 'Genetic Disease'], axis = 1, inplace = True)"
   ]
  },
  {
   "cell_type": "markdown",
   "id": "c55e5add",
   "metadata": {},
   "source": [
    "## 3.2. Understanding the data,"
   ]
  },
  {
   "cell_type": "code",
   "execution_count": 5,
   "id": "694fc846",
   "metadata": {},
   "outputs": [
    {
     "name": "stdout",
     "output_type": "stream",
     "text": [
      "<class 'pandas.core.frame.DataFrame'>\n",
      "RangeIndex: 107 entries, 0 to 106\n",
      "Data columns (total 16 columns):\n",
      " #   Column                         Non-Null Count  Dtype  \n",
      "---  ------                         --------------  -----  \n",
      " 0   Age                            107 non-null    int64  \n",
      " 1   Gender                         107 non-null    object \n",
      " 2   Height                         107 non-null    int64  \n",
      " 3   Weight                         107 non-null    float64\n",
      " 4   BMI                            107 non-null    float64\n",
      " 5   BMI Classification             107 non-null    object \n",
      " 6   Profession                     107 non-null    object \n",
      " 7   Activeness                     107 non-null    int64  \n",
      " 8   Sleep Amount                   107 non-null    float64\n",
      " 9   Workout Preference             107 non-null    object \n",
      " 10  Workout Period                 81 non-null     object \n",
      " 11  Diet preferences               107 non-null    object \n",
      " 12  Fruits                         107 non-null    object \n",
      " 13  Fast Food                      107 non-null    object \n",
      " 14  Doctor consultation (Monthly)  107 non-null    object \n",
      " 15  Healthy considered             107 non-null    int64  \n",
      "dtypes: float64(3), int64(4), object(9)\n",
      "memory usage: 13.5+ KB\n"
     ]
    }
   ],
   "source": [
    "df.info()"
   ]
  },
  {
   "cell_type": "code",
   "execution_count": 6,
   "id": "ef36de35",
   "metadata": {},
   "outputs": [
    {
     "data": {
      "text/html": [
       "<div>\n",
       "<style scoped>\n",
       "    .dataframe tbody tr th:only-of-type {\n",
       "        vertical-align: middle;\n",
       "    }\n",
       "\n",
       "    .dataframe tbody tr th {\n",
       "        vertical-align: top;\n",
       "    }\n",
       "\n",
       "    .dataframe thead th {\n",
       "        text-align: right;\n",
       "    }\n",
       "</style>\n",
       "<table border=\"1\" class=\"dataframe\">\n",
       "  <thead>\n",
       "    <tr style=\"text-align: right;\">\n",
       "      <th></th>\n",
       "      <th>Age</th>\n",
       "      <th>Height</th>\n",
       "      <th>Weight</th>\n",
       "      <th>BMI</th>\n",
       "      <th>Activeness</th>\n",
       "      <th>Sleep Amount</th>\n",
       "      <th>Healthy considered</th>\n",
       "    </tr>\n",
       "  </thead>\n",
       "  <tbody>\n",
       "    <tr>\n",
       "      <th>count</th>\n",
       "      <td>107.000000</td>\n",
       "      <td>107.000000</td>\n",
       "      <td>107.000000</td>\n",
       "      <td>107.000000</td>\n",
       "      <td>107.000000</td>\n",
       "      <td>107.000000</td>\n",
       "      <td>107.000000</td>\n",
       "    </tr>\n",
       "    <tr>\n",
       "      <th>mean</th>\n",
       "      <td>25.654206</td>\n",
       "      <td>167.130841</td>\n",
       "      <td>63.736542</td>\n",
       "      <td>22.804673</td>\n",
       "      <td>1.663551</td>\n",
       "      <td>6.537383</td>\n",
       "      <td>3.532710</td>\n",
       "    </tr>\n",
       "    <tr>\n",
       "      <th>std</th>\n",
       "      <td>8.190080</td>\n",
       "      <td>10.041503</td>\n",
       "      <td>13.828392</td>\n",
       "      <td>4.696012</td>\n",
       "      <td>0.999471</td>\n",
       "      <td>0.970559</td>\n",
       "      <td>0.964637</td>\n",
       "    </tr>\n",
       "    <tr>\n",
       "      <th>min</th>\n",
       "      <td>17.000000</td>\n",
       "      <td>142.000000</td>\n",
       "      <td>40.000000</td>\n",
       "      <td>14.200000</td>\n",
       "      <td>0.000000</td>\n",
       "      <td>4.500000</td>\n",
       "      <td>1.000000</td>\n",
       "    </tr>\n",
       "    <tr>\n",
       "      <th>25%</th>\n",
       "      <td>22.000000</td>\n",
       "      <td>159.500000</td>\n",
       "      <td>54.500000</td>\n",
       "      <td>19.700000</td>\n",
       "      <td>1.000000</td>\n",
       "      <td>6.000000</td>\n",
       "      <td>3.000000</td>\n",
       "    </tr>\n",
       "    <tr>\n",
       "      <th>50%</th>\n",
       "      <td>23.000000</td>\n",
       "      <td>168.000000</td>\n",
       "      <td>61.000000</td>\n",
       "      <td>22.300000</td>\n",
       "      <td>2.000000</td>\n",
       "      <td>6.500000</td>\n",
       "      <td>3.000000</td>\n",
       "    </tr>\n",
       "    <tr>\n",
       "      <th>75%</th>\n",
       "      <td>26.000000</td>\n",
       "      <td>175.000000</td>\n",
       "      <td>72.000000</td>\n",
       "      <td>24.400000</td>\n",
       "      <td>2.500000</td>\n",
       "      <td>7.500000</td>\n",
       "      <td>4.000000</td>\n",
       "    </tr>\n",
       "    <tr>\n",
       "      <th>max</th>\n",
       "      <td>56.000000</td>\n",
       "      <td>185.000000</td>\n",
       "      <td>106.000000</td>\n",
       "      <td>41.400000</td>\n",
       "      <td>3.000000</td>\n",
       "      <td>8.500000</td>\n",
       "      <td>5.000000</td>\n",
       "    </tr>\n",
       "  </tbody>\n",
       "</table>\n",
       "</div>"
      ],
      "text/plain": [
       "              Age      Height      Weight         BMI  Activeness  \\\n",
       "count  107.000000  107.000000  107.000000  107.000000  107.000000   \n",
       "mean    25.654206  167.130841   63.736542   22.804673    1.663551   \n",
       "std      8.190080   10.041503   13.828392    4.696012    0.999471   \n",
       "min     17.000000  142.000000   40.000000   14.200000    0.000000   \n",
       "25%     22.000000  159.500000   54.500000   19.700000    1.000000   \n",
       "50%     23.000000  168.000000   61.000000   22.300000    2.000000   \n",
       "75%     26.000000  175.000000   72.000000   24.400000    2.500000   \n",
       "max     56.000000  185.000000  106.000000   41.400000    3.000000   \n",
       "\n",
       "       Sleep Amount  Healthy considered  \n",
       "count    107.000000          107.000000  \n",
       "mean       6.537383            3.532710  \n",
       "std        0.970559            0.964637  \n",
       "min        4.500000            1.000000  \n",
       "25%        6.000000            3.000000  \n",
       "50%        6.500000            3.000000  \n",
       "75%        7.500000            4.000000  \n",
       "max        8.500000            5.000000  "
      ]
     },
     "execution_count": 6,
     "metadata": {},
     "output_type": "execute_result"
    }
   ],
   "source": [
    "df.describe()"
   ]
  },
  {
   "cell_type": "code",
   "execution_count": 7,
   "id": "5bf6fc82",
   "metadata": {},
   "outputs": [
    {
     "data": {
      "text/html": [
       "<div>\n",
       "<style scoped>\n",
       "    .dataframe tbody tr th:only-of-type {\n",
       "        vertical-align: middle;\n",
       "    }\n",
       "\n",
       "    .dataframe tbody tr th {\n",
       "        vertical-align: top;\n",
       "    }\n",
       "\n",
       "    .dataframe thead th {\n",
       "        text-align: right;\n",
       "    }\n",
       "</style>\n",
       "<table border=\"1\" class=\"dataframe\">\n",
       "  <thead>\n",
       "    <tr style=\"text-align: right;\">\n",
       "      <th></th>\n",
       "      <th>Gender</th>\n",
       "      <th>BMI Classification</th>\n",
       "      <th>Profession</th>\n",
       "      <th>Workout Preference</th>\n",
       "      <th>Workout Period</th>\n",
       "      <th>Diet preferences</th>\n",
       "      <th>Fruits</th>\n",
       "      <th>Fast Food</th>\n",
       "      <th>Doctor consultation (Monthly)</th>\n",
       "    </tr>\n",
       "  </thead>\n",
       "  <tbody>\n",
       "    <tr>\n",
       "      <th>count</th>\n",
       "      <td>107</td>\n",
       "      <td>107</td>\n",
       "      <td>107</td>\n",
       "      <td>107</td>\n",
       "      <td>81</td>\n",
       "      <td>107</td>\n",
       "      <td>107</td>\n",
       "      <td>107</td>\n",
       "      <td>107</td>\n",
       "    </tr>\n",
       "    <tr>\n",
       "      <th>unique</th>\n",
       "      <td>2</td>\n",
       "      <td>4</td>\n",
       "      <td>10</td>\n",
       "      <td>5</td>\n",
       "      <td>6</td>\n",
       "      <td>2</td>\n",
       "      <td>2</td>\n",
       "      <td>2</td>\n",
       "      <td>5</td>\n",
       "    </tr>\n",
       "    <tr>\n",
       "      <th>top</th>\n",
       "      <td>Male</td>\n",
       "      <td>Healthy</td>\n",
       "      <td>Student</td>\n",
       "      <td>Never</td>\n",
       "      <td>30</td>\n",
       "      <td>Non-vegetarian</td>\n",
       "      <td>Yes</td>\n",
       "      <td>1 to 7 times a week</td>\n",
       "      <td>Never</td>\n",
       "    </tr>\n",
       "    <tr>\n",
       "      <th>freq</th>\n",
       "      <td>56</td>\n",
       "      <td>72</td>\n",
       "      <td>50</td>\n",
       "      <td>26</td>\n",
       "      <td>33</td>\n",
       "      <td>57</td>\n",
       "      <td>55</td>\n",
       "      <td>77</td>\n",
       "      <td>62</td>\n",
       "    </tr>\n",
       "  </tbody>\n",
       "</table>\n",
       "</div>"
      ],
      "text/plain": [
       "       Gender BMI Classification Profession Workout Preference Workout Period  \\\n",
       "count     107                107        107                107             81   \n",
       "unique      2                  4         10                  5              6   \n",
       "top      Male            Healthy    Student              Never             30   \n",
       "freq       56                 72         50                 26             33   \n",
       "\n",
       "       Diet preferences Fruits           Fast Food   \\\n",
       "count               107    107                  107   \n",
       "unique                2      2                    2   \n",
       "top      Non-vegetarian    Yes  1 to 7 times a week   \n",
       "freq                 57     55                   77   \n",
       "\n",
       "       Doctor consultation (Monthly)  \n",
       "count                            107  \n",
       "unique                             5  \n",
       "top                            Never  \n",
       "freq                              62  "
      ]
     },
     "execution_count": 7,
     "metadata": {},
     "output_type": "execute_result"
    }
   ],
   "source": [
    "df.describe(include = object)"
   ]
  },
  {
   "cell_type": "markdown",
   "id": "ed798f43",
   "metadata": {},
   "source": [
    "## 3.3. Analysing multi-collinearity,"
   ]
  },
  {
   "cell_type": "code",
   "execution_count": 8,
   "id": "39c25202",
   "metadata": {},
   "outputs": [
    {
     "data": {
      "text/html": [
       "<div>\n",
       "<style scoped>\n",
       "    .dataframe tbody tr th:only-of-type {\n",
       "        vertical-align: middle;\n",
       "    }\n",
       "\n",
       "    .dataframe tbody tr th {\n",
       "        vertical-align: top;\n",
       "    }\n",
       "\n",
       "    .dataframe thead th {\n",
       "        text-align: right;\n",
       "    }\n",
       "</style>\n",
       "<table border=\"1\" class=\"dataframe\">\n",
       "  <thead>\n",
       "    <tr style=\"text-align: right;\">\n",
       "      <th></th>\n",
       "      <th>Age</th>\n",
       "      <th>Height</th>\n",
       "      <th>Weight</th>\n",
       "      <th>BMI</th>\n",
       "      <th>Activeness</th>\n",
       "      <th>Sleep Amount</th>\n",
       "      <th>Healthy considered</th>\n",
       "    </tr>\n",
       "  </thead>\n",
       "  <tbody>\n",
       "    <tr>\n",
       "      <th>Age</th>\n",
       "      <td>1.000000</td>\n",
       "      <td>-0.153502</td>\n",
       "      <td>0.133611</td>\n",
       "      <td>0.265125</td>\n",
       "      <td>-0.012042</td>\n",
       "      <td>-0.004293</td>\n",
       "      <td>0.090406</td>\n",
       "    </tr>\n",
       "    <tr>\n",
       "      <th>Height</th>\n",
       "      <td>-0.153502</td>\n",
       "      <td>1.000000</td>\n",
       "      <td>0.427903</td>\n",
       "      <td>-0.151921</td>\n",
       "      <td>0.093727</td>\n",
       "      <td>0.130173</td>\n",
       "      <td>0.138827</td>\n",
       "    </tr>\n",
       "    <tr>\n",
       "      <th>Weight</th>\n",
       "      <td>0.133611</td>\n",
       "      <td>0.427903</td>\n",
       "      <td>1.000000</td>\n",
       "      <td>0.820964</td>\n",
       "      <td>-0.055067</td>\n",
       "      <td>0.062245</td>\n",
       "      <td>-0.046934</td>\n",
       "    </tr>\n",
       "    <tr>\n",
       "      <th>BMI</th>\n",
       "      <td>0.265125</td>\n",
       "      <td>-0.151921</td>\n",
       "      <td>0.820964</td>\n",
       "      <td>1.000000</td>\n",
       "      <td>-0.112624</td>\n",
       "      <td>-0.002937</td>\n",
       "      <td>-0.136547</td>\n",
       "    </tr>\n",
       "    <tr>\n",
       "      <th>Activeness</th>\n",
       "      <td>-0.012042</td>\n",
       "      <td>0.093727</td>\n",
       "      <td>-0.055067</td>\n",
       "      <td>-0.112624</td>\n",
       "      <td>1.000000</td>\n",
       "      <td>0.003363</td>\n",
       "      <td>0.217007</td>\n",
       "    </tr>\n",
       "    <tr>\n",
       "      <th>Sleep Amount</th>\n",
       "      <td>-0.004293</td>\n",
       "      <td>0.130173</td>\n",
       "      <td>0.062245</td>\n",
       "      <td>-0.002937</td>\n",
       "      <td>0.003363</td>\n",
       "      <td>1.000000</td>\n",
       "      <td>0.250593</td>\n",
       "    </tr>\n",
       "    <tr>\n",
       "      <th>Healthy considered</th>\n",
       "      <td>0.090406</td>\n",
       "      <td>0.138827</td>\n",
       "      <td>-0.046934</td>\n",
       "      <td>-0.136547</td>\n",
       "      <td>0.217007</td>\n",
       "      <td>0.250593</td>\n",
       "      <td>1.000000</td>\n",
       "    </tr>\n",
       "  </tbody>\n",
       "</table>\n",
       "</div>"
      ],
      "text/plain": [
       "                         Age    Height    Weight       BMI  Activeness  \\\n",
       "Age                 1.000000 -0.153502  0.133611  0.265125   -0.012042   \n",
       "Height             -0.153502  1.000000  0.427903 -0.151921    0.093727   \n",
       "Weight              0.133611  0.427903  1.000000  0.820964   -0.055067   \n",
       "BMI                 0.265125 -0.151921  0.820964  1.000000   -0.112624   \n",
       "Activeness         -0.012042  0.093727 -0.055067 -0.112624    1.000000   \n",
       "Sleep Amount       -0.004293  0.130173  0.062245 -0.002937    0.003363   \n",
       "Healthy considered  0.090406  0.138827 -0.046934 -0.136547    0.217007   \n",
       "\n",
       "                    Sleep Amount  Healthy considered  \n",
       "Age                    -0.004293            0.090406  \n",
       "Height                  0.130173            0.138827  \n",
       "Weight                  0.062245           -0.046934  \n",
       "BMI                    -0.002937           -0.136547  \n",
       "Activeness              0.003363            0.217007  \n",
       "Sleep Amount            1.000000            0.250593  \n",
       "Healthy considered      0.250593            1.000000  "
      ]
     },
     "execution_count": 8,
     "metadata": {},
     "output_type": "execute_result"
    }
   ],
   "source": [
    "df.corr()"
   ]
  },
  {
   "attachments": {
    "claims-3.png": {
     "image/png": "[encoded data removed]"
    }
   },
   "cell_type": "markdown",
   "id": "ed58ddae",
   "metadata": {},
   "source": [
    "![claims-3.png](attachment:claims-3.png)"
   ]
  },
  {
   "cell_type": "markdown",
   "id": "736b9e2e-a443-4a6d-82f3-b7129c46d60d",
   "metadata": {},
   "source": [
    "# CLAIM 01 - \n",
    "# Test whether the BMI of people with age > 28 is more variable than those with age < 28"
   ]
  },
  {
   "cell_type": "code",
   "execution_count": 9,
   "id": "b91d5f07",
   "metadata": {},
   "outputs": [
    {
     "data": {
      "text/plain": [
       "22    31\n",
       "23    10\n",
       "24     9\n",
       "21     8\n",
       "20     8\n",
       "27     7\n",
       "26     5\n",
       "25     4\n",
       "28     3\n",
       "18     3\n",
       "54     2\n",
       "32     2\n",
       "19     2\n",
       "43     1\n",
       "35     1\n",
       "52     1\n",
       "49     1\n",
       "50     1\n",
       "41     1\n",
       "34     1\n",
       "56     1\n",
       "48     1\n",
       "17     1\n",
       "29     1\n",
       "31     1\n",
       "37     1\n",
       "Name: Age, dtype: int64"
      ]
     },
     "execution_count": 9,
     "metadata": {},
     "output_type": "execute_result"
    }
   ],
   "source": [
    "df['Age'].value_counts()"
   ]
  },
  {
   "cell_type": "code",
   "execution_count": 10,
   "id": "d7f7ad9a",
   "metadata": {},
   "outputs": [],
   "source": [
    "df4 = df[df['Age']< 28]\n",
    "df5 = df[df['Age']>= 28]"
   ]
  },
  {
   "cell_type": "raw",
   "id": "625b73f6",
   "metadata": {},
   "source": [
    "Ho : σ12/σ22 <= 1\n",
    "H1 : σ12/σ22 > 1\n",
    "\n",
    "where, \n",
    "σ12 = variance in BMI of people with age > 28\n",
    "σ22 = variance in BMI of people with age < 28\n",
    "δo = 1"
   ]
  },
  {
   "cell_type": "code",
   "execution_count": 11,
   "id": "fa7874da",
   "metadata": {},
   "outputs": [
    {
     "name": "stdout",
     "output_type": "stream",
     "text": [
      "n1 = 19\n",
      "n2 = 88\n",
      "sd1 =  4.9391265179416\n",
      "sd2 = 4.578256616531336\n",
      "Fvariate = 1.163858113400396\n",
      "F_alpha = 0.37117620287023445\n",
      "\n",
      " Reject Ho and we accept that there is more variation in the BMI of people with age>28 than with age<28.\n"
     ]
    }
   ],
   "source": [
    "alpha = 0.01\n",
    "n1 = len(df5['BMI'])\n",
    "print('n1 =', n1)\n",
    "\n",
    "n2 = len(df4['BMI'])\n",
    "print('n2 =', n2)\n",
    "\n",
    "sd1 = np.sqrt(stats.variance(df5['BMI']))\n",
    "print('sd1 = ', sd1)\n",
    "\n",
    "sd2 = np.sqrt(stats.variance(df4['BMI']))\n",
    "print('sd2 =', sd2)\n",
    "\n",
    "#F-variate,\n",
    "F = sd1**2/sd2**2\n",
    "print('Fvariate =', F)\n",
    "\n",
    "#Falpha,\n",
    "F_alpha = sc.f.ppf(alpha, dfn = n1-1, dfd = n2-1)\n",
    "print('F_alpha =', F_alpha)\n",
    "\n",
    "\n",
    "if F > F_alpha:\n",
    "    print('\\n','Reject Ho and we accept that there is more variation in the BMI of people with age>28 than with age<28.')\n",
    "else:\n",
    "    print('Failed to reject Ho')"
   ]
  },
  {
   "cell_type": "markdown",
   "id": "afbd8ead",
   "metadata": {},
   "source": [
    "# CLAIM 02 - \n",
    "## Check whether the average BMI is same for both the diet preferences?"
   ]
  },
  {
   "cell_type": "code",
   "execution_count": 12,
   "id": "28dbed4b",
   "metadata": {
    "scrolled": true
   },
   "outputs": [],
   "source": [
    "Nonveg = df[df['Diet preferences']=='Non-vegetarian']\n",
    "Veg = df[df['Diet preferences']=='Vegetarian']"
   ]
  },
  {
   "cell_type": "raw",
   "id": "ab13787a",
   "metadata": {},
   "source": [
    "Choosing null hypothesis Ho and alternative hypothesis H1,\n",
    "\n",
    "Ho : μ1 = μ2\n",
    "H1 : μ1 ≠ μ2\n",
    "\n",
    "\n",
    "Where,\n",
    "μ1 = mean BMI for Nonvegetarians\n",
    "μ2 = mean BMI for Vegetarians\n",
    "μo = 0"
   ]
  },
  {
   "cell_type": "code",
   "execution_count": 13,
   "id": "008fed5f",
   "metadata": {},
   "outputs": [
    {
     "name": "stdout",
     "output_type": "stream",
     "text": [
      "mean1 = 22.992982456140354\n",
      "mean2 = 22.58999999999999\n",
      "SD1 = 4.8414453143487615\n",
      "SD2 = 4.56388887163711\n",
      "n1 = 57\n",
      "n2 = 50\n",
      "t-variate = 0.4429174159825155\n",
      "t_alphaby2 = -2.623465495230997\n",
      "\n",
      " Reject Ho and we accept that the average BMI is not same for both the diet preferences.\n"
     ]
    }
   ],
   "source": [
    "μo = 0\n",
    "alpha = 0.01\n",
    "\n",
    "mean1 = np.mean(Nonveg['BMI'])\n",
    "print('mean1 =', mean1)\n",
    "mean2 = np.mean(Veg['BMI'])\n",
    "print('mean2 =', mean2)\n",
    "\n",
    "SD1 = np.sqrt(stats.variance(Nonveg['BMI']))\n",
    "print('SD1 =', SD1)\n",
    "SD2 = np.sqrt(stats.variance(Veg['BMI']))\n",
    "print('SD2 =', SD2)\n",
    "\n",
    "n1 = len(Nonveg['BMI'])\n",
    "print('n1 =', n1)\n",
    "n2 = len(Veg['BMI'])\n",
    "print('n2 =', n2)\n",
    "\n",
    "#t-variate,\n",
    "t = abs(((mean1 - mean2) - μo)/ np.sqrt((SD1**2/n1) + (SD2**2/n2)))\n",
    "print('t-variate =', t)\n",
    "\n",
    "#t-alphaby2\n",
    "t_alphaby2 = sc.t.ppf(alpha/2, df = n1 + n2 - 2)\n",
    "print('t_alphaby2 =', t_alphaby2)\n",
    "\n",
    "if t > t_alphaby2:\n",
    "    print('\\n', 'Reject Ho and we accept that the average BMI is not same for both the diet preferences.')\n",
    "else:\n",
    "    print('Failed to reject Ho')"
   ]
  },
  {
   "cell_type": "markdown",
   "id": "d0c35c9c",
   "metadata": {},
   "source": [
    "## CLAIM 03 - \n",
    "# Claim that the males have meaner BMI than females for age < 28."
   ]
  },
  {
   "cell_type": "code",
   "execution_count": 14,
   "id": "4fba6942",
   "metadata": {},
   "outputs": [],
   "source": [
    "Males = df4[df4['Gender']=='Male']\n",
    "Females = df4[df4['Gender']=='Female']"
   ]
  },
  {
   "cell_type": "raw",
   "id": "c0cfc31a",
   "metadata": {},
   "source": [
    "Choosing null hypothesis Ho and alternative hypothesis H1,\n",
    "\n",
    "Ho : μ1 < μ2\n",
    "H1 : μ1 >= μ2\n",
    "\n",
    "\n",
    "Where,\n",
    "μ1 = mean BMI of Males age < 28\n",
    "μ2 = mean BMI of Females age < 28\n",
    "μo = 0"
   ]
  },
  {
   "cell_type": "code",
   "execution_count": 15,
   "id": "00351543",
   "metadata": {},
   "outputs": [
    {
     "name": "stdout",
     "output_type": "stream",
     "text": [
      "mean1 = 22.415686274509806\n",
      "mean2 = 22.416216216216213\n",
      "SD1 = 3.9862449773700366\n",
      "SD2 = 5.346468902904956\n",
      "n1 = 51\n",
      "n2 = 37\n",
      "t-variate = 0.0005089639890962236\n",
      "t_alphaby2 = -2.370493224836108\n",
      "\n",
      " Failed to reject Ho as we dont have strong evidence to reject the fact that males have more mean BMI than females for age<28.\n"
     ]
    }
   ],
   "source": [
    "μo = 0\n",
    "alpha = 0.01\n",
    "\n",
    "mean1 = np.mean(Males['BMI'])\n",
    "print('mean1 =', mean1)\n",
    "mean2 = np.mean(Females['BMI'])\n",
    "print('mean2 =', mean2)\n",
    "\n",
    "SD1 = np.sqrt(stats.variance(Males['BMI']))\n",
    "print('SD1 =', SD1)\n",
    "SD2 = np.sqrt(stats.variance(Females['BMI']))\n",
    "print('SD2 =', SD2)\n",
    "\n",
    "n1 = len(Males['BMI'])\n",
    "print('n1 =', n1)\n",
    "n2 = len(Females['BMI'])\n",
    "print('n2 =', n2)\n",
    "\n",
    "#t-variate,\n",
    "t = abs(((mean1 - mean2) - μo)/ np.sqrt((SD1**2/n1) + (SD2**2/n2)))\n",
    "print('t-variate =', t)\n",
    "\n",
    "#t-alpha\n",
    "t_alpha = sc.t.ppf(alpha, df = n1 + n2 - 2)\n",
    "print('t_alphaby2 =', t_alpha)\n",
    "\n",
    "if t > -t_alpha:\n",
    "    print('Reject Ho')\n",
    "else:\n",
    "    print('\\n', 'Failed to reject Ho as we dont have strong evidence to reject the fact that', \n",
    "          'males have more mean BMI than females for age<28.')"
   ]
  },
  {
   "cell_type": "markdown",
   "id": "8d8e4c7b",
   "metadata": {},
   "source": [
    "## 4. Does consuming fruits everyday suggests that the person is healthy i.e. they have an average BMI > 18.5"
   ]
  },
  {
   "cell_type": "code",
   "execution_count": 16,
   "id": "1ed785af",
   "metadata": {},
   "outputs": [
    {
     "data": {
      "text/plain": [
       "(55, 16)"
      ]
     },
     "execution_count": 16,
     "metadata": {},
     "output_type": "execute_result"
    }
   ],
   "source": [
    "Consuming_fruits_everyday = df[df['Fruits']=='Yes']\n",
    "Consuming_fruits_everyday.shape"
   ]
  },
  {
   "cell_type": "raw",
   "id": "47440a1c",
   "metadata": {},
   "source": [
    "Choosing null hypothesis Ho and alternative hypothesis H1,\n",
    "\n",
    "Ho : μ < μo\n",
    "H1 : μ >= μo\n",
    "\n",
    "Where,\n",
    "μ = Mean BMI of people consuming fruits daily\n",
    "μo = 18.5"
   ]
  },
  {
   "cell_type": "code",
   "execution_count": 17,
   "id": "793f8609",
   "metadata": {},
   "outputs": [
    {
     "name": "stdout",
     "output_type": "stream",
     "text": [
      "Mean =  22.76363636363636\n",
      "SD =  4.5217729903690405\n",
      "n =  55\n",
      "t-variate = 17.76818734151118\n",
      "t_alphaby2 = -2.634212307633056\n",
      "\n",
      " Reject Ho,\n",
      " We accept that the average BMI of fruit consumers is greater that 18.5, ie. are healthy according to the BMI studies.\n"
     ]
    }
   ],
   "source": [
    "μo = 18.5\n",
    "alpha = 0.01\n",
    "\n",
    "mean = np.mean(Consuming_fruits_everyday['BMI'])\n",
    "print('Mean = ', mean)\n",
    "\n",
    "SD = np.sqrt(stats.variance(Consuming_fruits_everyday['BMI']))\n",
    "print('SD = ', SD)\n",
    "\n",
    "n = len(Consuming_fruits_everyday['BMI'])\n",
    "print('n = ', n)\n",
    "\n",
    "\n",
    "#t-variate,\n",
    "t = abs(((mean1 - mean2) - μo)/ np.sqrt((SD1**2/n1) + (SD2**2/n2)))\n",
    "print('t-variate =', t)\n",
    "\n",
    "#t-alphaby2\n",
    "t_alphaby2 = sc.t.ppf(alpha/2, df = n1 + n2 - 2)\n",
    "print('t_alphaby2 =', t_alphaby2)\n",
    "\n",
    "if t > t_alphaby2:\n",
    "    print('\\n', 'Reject Ho,' '\\n', \n",
    "          'We accept that the average BMI of fruit consumers is greater that 18.5, ie. are healthy according to the BMI studies.')\n",
    "else:\n",
    "    print('Failed to reject Ho')"
   ]
  },
  {
   "cell_type": "markdown",
   "id": "b6c212ba",
   "metadata": {},
   "source": [
    "## 5. Is there a significant difference in the proportion of BMI of the students getting sleep less than 7 hours and greater than 7 hours? "
   ]
  },
  {
   "cell_type": "code",
   "execution_count": 18,
   "id": "fcfa5850",
   "metadata": {},
   "outputs": [
    {
     "data": {
      "text/plain": [
       "Student         50\n",
       "Employee        33\n",
       "Other            7\n",
       "Academic         6\n",
       "Home - maker     5\n",
       "Business         2\n",
       "Pharmacist       1\n",
       "Accountant       1\n",
       "Dancer           1\n",
       "BUSINESS         1\n",
       "Name: Profession, dtype: int64"
      ]
     },
     "execution_count": 18,
     "metadata": {},
     "output_type": "execute_result"
    }
   ],
   "source": [
    "df['Profession'].value_counts()"
   ]
  },
  {
   "cell_type": "code",
   "execution_count": 19,
   "id": "f67638e4",
   "metadata": {},
   "outputs": [
    {
     "data": {
      "text/plain": [
       "(50, 16)"
      ]
     },
     "execution_count": 19,
     "metadata": {},
     "output_type": "execute_result"
    }
   ],
   "source": [
    "df1 = df[df['Profession']=='Student']\n",
    "df1.shape"
   ]
  },
  {
   "cell_type": "code",
   "execution_count": 20,
   "id": "45dab7ad",
   "metadata": {},
   "outputs": [
    {
     "data": {
      "text/plain": [
       "6.5    17\n",
       "7.5    17\n",
       "5.5    10\n",
       "4.5     5\n",
       "8.5     1\n",
       "Name: Sleep Amount, dtype: int64"
      ]
     },
     "execution_count": 20,
     "metadata": {},
     "output_type": "execute_result"
    }
   ],
   "source": [
    "df1['Sleep Amount'].value_counts()"
   ]
  },
  {
   "cell_type": "raw",
   "id": "88c63644",
   "metadata": {},
   "source": [
    "Ho : P1 = P2\n",
    "H1 : P1 ≠ P2\n",
    "\n",
    "where, \n",
    "P1 = Students getting sleep < 7 hours = 32/50\n",
    "P2 = Students getting sleep > 7 hours = 18/50\n",
    "Po = 0"
   ]
  },
  {
   "cell_type": "code",
   "execution_count": 21,
   "id": "0c8eb956",
   "metadata": {},
   "outputs": [
    {
     "name": "stdout",
     "output_type": "stream",
     "text": [
      "Po = 0.5\n",
      "t-variate = 2.8000000000000003\n",
      "t_alphaby2 = 2.626931094814024\n",
      "\n",
      " Reject Ho and we accept that there is no significant difference in \n",
      " the proportion of BMI of the students getting sleep less than 7 hours and greater than 7 hours\n"
     ]
    }
   ],
   "source": [
    "n1 = 50\n",
    "n2 = 50\n",
    "alpha = 0.01\n",
    "\n",
    "p1 = 32/50\n",
    "p2 = 18/50\n",
    "\n",
    "Po = (n1*p1 + n2*p2)/(n1+n2)\n",
    "print('Po =', Po)\n",
    "\n",
    "\n",
    "# t-variate,\n",
    "t = abs((p1 - p2)/np.sqrt(((Po*(1-Po))/n1) + (Po*(1-Po))/n2))\n",
    "print('t-variate =', t)\n",
    "\n",
    "\n",
    "# t (1-alpha/2),\n",
    "t_alphaby2 = sc.t.ppf(1-alpha/2, df = n1 + n2 - 2)\n",
    "print('t_alphaby2 =', t_alphaby2)\n",
    "\n",
    "\n",
    "if t > t_alphaby2:\n",
    "    print('\\n','Reject Ho and we accept that there is no significant difference in','\\n', 'the proportion of BMI of the students getting sleep less than 7 hours and greater than 7 hours')\n",
    "else:\n",
    "    print('Failed to reject Ho')"
   ]
  },
  {
   "cell_type": "markdown",
   "id": "5b35f20b",
   "metadata": {},
   "source": [
    "## 6. Test whether the BMI of people working out daily appear to be more variable than those who never workout."
   ]
  },
  {
   "cell_type": "code",
   "execution_count": 22,
   "id": "118d8405",
   "metadata": {},
   "outputs": [
    {
     "data": {
      "text/plain": [
       "Never                  26\n",
       "Once a week            26\n",
       "Everyday               21\n",
       "2 to 3 times a week    18\n",
       "4 to 6 times a week    16\n",
       "Name: Workout Preference, dtype: int64"
      ]
     },
     "execution_count": 22,
     "metadata": {},
     "output_type": "execute_result"
    }
   ],
   "source": [
    "df['Workout Preference'].value_counts()"
   ]
  },
  {
   "cell_type": "code",
   "execution_count": 23,
   "id": "eedcebce",
   "metadata": {},
   "outputs": [],
   "source": [
    "df2 = df[df['Workout Preference']=='Never']\n",
    "df3 = df[df['Workout Preference']=='Everyday']"
   ]
  },
  {
   "cell_type": "raw",
   "id": "f71db28c",
   "metadata": {},
   "source": [
    "Ho : σe2/σn2 <= 1\n",
    "H1 : σe2/σn2 > 1\n",
    "\n",
    "where, \n",
    "σn2 = variance in BMI of people working out never\n",
    "σe2 = variance in BMI of people working out everyday\n",
    "δo = 1"
   ]
  },
  {
   "cell_type": "code",
   "execution_count": 24,
   "id": "8a910c1a",
   "metadata": {},
   "outputs": [
    {
     "name": "stdout",
     "output_type": "stream",
     "text": [
      "n1 = 21\n",
      "n2 = 26\n",
      "sd1 =  3.429938219629647\n",
      "sd2 = 5.464015148081265\n",
      "Fvariate = 0.39404770799876976\n",
      "F_alpha = 0.35169185621205384\n",
      "\n",
      " Reject Ho and we accept the fact that BMI of people working out daily appear to be more variable than those who never workout.\n"
     ]
    }
   ],
   "source": [
    "alpha = 0.01\n",
    "n1 = len(df3['BMI'])\n",
    "print('n1 =', n1)\n",
    "\n",
    "n2 = len(df2['BMI'])\n",
    "print('n2 =', n2)\n",
    "\n",
    "sd1 = np.sqrt(stats.variance(df3['BMI']))\n",
    "print('sd1 = ', sd1)\n",
    "\n",
    "sd2 = np.sqrt(stats.variance(df2['BMI']))\n",
    "print('sd2 =', sd2)\n",
    "\n",
    "#F-variate,\n",
    "F = sd1**2/sd2**2\n",
    "print('Fvariate =', F)\n",
    "\n",
    "#F 1-alpha,\n",
    "F_alpha = sc.f.ppf(alpha, dfn = n1-1, dfd = n2-1)\n",
    "print('F_alpha =', F_alpha)\n",
    "\n",
    "\n",
    "if F > F_alpha:\n",
    "    print('\\n','Reject Ho and we accept the fact that BMI of people working out daily appear to be more variable than those who never workout.')\n",
    "else:\n",
    "    print('Failed to reject Ho')"
   ]
  },
  {
   "cell_type": "code",
   "execution_count": 25,
   "id": "ccbb5faf",
   "metadata": {},
   "outputs": [
    {
     "data": {
      "text/plain": [
       "20.9047619047619"
      ]
     },
     "execution_count": 25,
     "metadata": {},
     "output_type": "execute_result"
    }
   ],
   "source": [
    "np.mean(df3['BMI'])"
   ]
  },
  {
   "cell_type": "code",
   "execution_count": 26,
   "id": "11107c57",
   "metadata": {},
   "outputs": [
    {
     "data": {
      "text/plain": [
       "24.211538461538456"
      ]
     },
     "execution_count": 26,
     "metadata": {},
     "output_type": "execute_result"
    }
   ],
   "source": [
    "np.mean(df2['BMI'])"
   ]
  }
 ],
 "metadata": {
  "hide_input": false,
  "kernelspec": {
   "display_name": "Python 3 (ipykernel)",
   "language": "python",
   "name": "python3"
  },
  "language_info": {
   "codemirror_mode": {
    "name": "ipython",
    "version": 3
   },
   "file_extension": ".py",
   "mimetype": "text/x-python",
   "name": "python",
   "nbconvert_exporter": "python",
   "pygments_lexer": "ipython3",
   "version": "3.10.14"
  },
  "toc": {
   "base_numbering": 1,
   "nav_menu": {},
   "number_sections": true,
   "sideBar": true,
   "skip_h1_title": false,
   "title_cell": "Table of Contents",
   "title_sidebar": "Contents",
   "toc_cell": false,
   "toc_position": {},
   "toc_section_display": true,
   "toc_window_display": false
  }
 },
 "nbformat": 4,
 "nbformat_minor": 5
}
